{
 "cells": [
  {
   "cell_type": "markdown",
   "metadata": {},
   "source": [
    "## Import packages"
   ]
  },
  {
   "cell_type": "code",
   "execution_count": 6,
   "metadata": {},
   "outputs": [],
   "source": [
    "import os, sys\n",
    "import numpy as np\n",
    "import pickle as pkl\n",
    "from tqdm.notebook import tqdm\n",
    "import matplotlib.pyplot as plt\n",
    "%matplotlib inline\n",
    "import gc\n",
    "\n",
    "sys.path.insert(0, os.path.dirname(os.path.abspath('..')))\n",
    "from mass_automation.experiment import Spectrum, Experiment"
   ]
  },
  {
   "cell_type": "markdown",
   "metadata": {},
   "source": [
    "### Vectorization \n",
    "is a procedure where mass spectrum is encoded with vector.\n",
    "\n",
    "\n",
    "In MEDUSA, vectorization algorithm is based on division of spectra on intervals (bins) and counting measure (Maximal intensity, mean intensity, e.t.c.) in each interval. Each bin with counted measure characterises one component of the resulting vector.\n",
    "\n",
    "These procedure can be easily realized with spectrum method *vectrorize*.\n",
    "\n",
    "If you have many mass spectra, you can automatize this procedure and create dataset with vectors\n",
    "\n",
    "<b>!! Specify your directory path manually in the cell below. At the time of the first launch there is an example of a possible path for Windows !! </b>"
   ]
  },
  {
   "cell_type": "code",
   "execution_count": 1,
   "metadata": {},
   "outputs": [],
   "source": [
    "dir_path = 'D:\\\\mass_spectra\\\\TEA_dataset\\\\'"
   ]
  },
  {
   "cell_type": "markdown",
   "metadata": {},
   "source": [
    "Unfortunatelly, the procedure takes a time for a big amount of spectra"
   ]
  },
  {
   "cell_type": "code",
   "execution_count": null,
   "metadata": {
    "scrolled": true
   },
   "outputs": [
    {
     "data": {
      "application/vnd.jupyter.widget-view+json": {
       "model_id": "0a6aba54f026484b94b1c7146e6e824d",
       "version_major": 2,
       "version_minor": 0
      },
      "text/plain": [
       "HBox(children=(FloatProgress(value=0.0, max=61.0), HTML(value='')))"
      ]
     },
     "metadata": {},
     "output_type": "display_data"
    },
    {
     "name": "stderr",
     "output_type": "stream",
     "text": [
      "100%|██████████████████████████████████████████████████████████████████████████████████| 20/20 [00:00<00:00, 26.14it/s]\n",
      "100%|██████████████████████████████████████████████████████████████████████████████████| 20/20 [00:00<00:00, 37.42it/s]\n",
      "100%|██████████████████████████████████████████████████████████████████████████████████| 20/20 [00:00<00:00, 34.51it/s]\n",
      "100%|██████████████████████████████████████████████████████████████████████████████████| 20/20 [00:00<00:00, 32.40it/s]\n"
     ]
    }
   ],
   "source": [
    "spectra_names = os.listdir(dir_path)  # Create list with spectra filenames in directory \n",
    "\n",
    "spec_vecs = {}\n",
    "for spectra_name in tqdm(spectra_names):\n",
    "    \n",
    "    if spectra_name.split('.')[-1] == 'mzXML':  # Check if file in directory is in mzXML format\n",
    "        spec_path = dir_path + spectra_name\n",
    "        exp = Experiment(spec_path, 32, 2)    # Create experiment object with 32 scans and 2m points (optional parameters) \n",
    "        spec = exp.summarize(4, 9)            # Sumarize some spectra in experiment in one spectrum object \n",
    "        vector = spec.vectorize(min_mass=150,\n",
    "                                max_mass=1000,\n",
    "                                delta_mass=1,\n",
    "                                method=np.max  # Vectorize spectrum with maximal intensity method\n",
    "                                )             \n",
    "        del spec, exp  # We don't want MemoryError on our calculators :)\n",
    "        gc.collect()\n",
    "        spec_vecs[spectra_name] = vector      # Write vectors in dictionary\n",
    "        "
   ]
  },
  {
   "cell_type": "markdown",
   "metadata": {},
   "source": [
    "### Now we can save resulting dataset in pickle format to use it for clustering with PCA and cluster maps"
   ]
  },
  {
   "cell_type": "markdown",
   "metadata": {},
   "source": [
    "<b> !! Specify the path for saving pickle manually in the cell below. At the time of the first launch Dataset are meant to be saved in *data/plot_pca_files/new_spec_vecs_dictionary_user_try.pkl* !! </b>"
   ]
  },
  {
   "cell_type": "code",
   "execution_count": 7,
   "metadata": {},
   "outputs": [],
   "source": [
    "save_path = os.path.join(os.path.dirname(os.path.abspath('..')),\n",
    "                         'data',\n",
    "                         'plot_pca_files',\n",
    "                         'new_spec_vecs_dictionary_user_try.pkl')"
   ]
  },
  {
   "cell_type": "code",
   "execution_count": null,
   "metadata": {},
   "outputs": [],
   "source": [
    "with open(save_path, 'wb') as f:\n",
    "    pkl.dump(spec_vecs, f)"
   ]
  }
 ],
 "metadata": {
  "kernelspec": {
   "display_name": "Python 3",
   "language": "python",
   "name": "python3"
  },
  "language_info": {
   "codemirror_mode": {
    "name": "ipython",
    "version": 3
   },
   "file_extension": ".py",
   "mimetype": "text/x-python",
   "name": "python",
   "nbconvert_exporter": "python",
   "pygments_lexer": "ipython3",
   "version": "3.8.3"
  }
 },
 "nbformat": 4,
 "nbformat_minor": 4
}
