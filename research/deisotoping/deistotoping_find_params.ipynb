{
 "cells": [
  {
   "cell_type": "markdown",
   "metadata": {},
   "source": [
    "## Import packages"
   ]
  },
  {
   "cell_type": "code",
   "execution_count": 1,
   "metadata": {},
   "outputs": [
    {
     "name": "stderr",
     "output_type": "stream",
     "text": [
      "C:\\Users\\user\\anaconda3\\lib\\site-packages\\statsmodels\\tsa\\base\\tsa_model.py:7: FutureWarning: pandas.Int64Index is deprecated and will be removed from pandas in a future version. Use pandas.Index with the appropriate dtype instead.\n",
      "  from pandas import (to_datetime, Int64Index, DatetimeIndex, Period,\n",
      "C:\\Users\\user\\anaconda3\\lib\\site-packages\\statsmodels\\tsa\\base\\tsa_model.py:7: FutureWarning: pandas.Float64Index is deprecated and will be removed from pandas in a future version. Use pandas.Index with the appropriate dtype instead.\n",
      "  from pandas import (to_datetime, Int64Index, DatetimeIndex, Period,\n"
     ]
    }
   ],
   "source": [
    "import sys, os\n",
    "import numpy as np\n",
    "import matplotlib.pyplot as plt\n",
    "import statsmodels.api as sm\n",
    "%matplotlib inline\n",
    "from tqdm import tqdm\n",
    "\n",
    "sys.path.insert(0, os.path.dirname(os.path.abspath('..')))\n",
    "from mass_automation.experiment import Experiment, Spectrum\n",
    "from mass_automation.formula import Formula\n",
    "from mass_automation.formula.check_formula import del_isotopologues\n",
    "from research.deisotoping.train_models.generate_mixtures import create_substance_list, open_molecules\n"
   ]
  },
  {
   "cell_type": "markdown",
   "metadata": {},
   "source": [
    "This notebook is for defining average mass difference between isotopologues and minimal distance evaluation (these parameters are important for well-performed deisotoping procedure)"
   ]
  },
  {
   "cell_type": "markdown",
   "metadata": {},
   "source": [
    "### 1) Investigation of the average mass difference (corrected neutron mass) and  **delta** parameter  "
   ]
  },
  {
   "cell_type": "markdown",
   "metadata": {},
   "source": [
    "<b> !! Path to txt-file with formulas from PubChem is located in *data/pubchem_formulas/0.1_subsample.merged.subsampled_honestly.txt* !! </b>"
   ]
  },
  {
   "cell_type": "code",
   "execution_count": 2,
   "metadata": {},
   "outputs": [],
   "source": [
    "path_to_pubchem = os.path.join(os.path.dirname(os.path.abspath('..')), 'data',\n",
    "                               'pubchem_formulas', '0.1_subsample.merged.subsampled_honestly.txt')"
   ]
  },
  {
   "cell_type": "code",
   "execution_count": 3,
   "metadata": {},
   "outputs": [],
   "source": [
    "objects = open_molecules(path_to_pubchem)  # This function opens file with saved molecular formulas from pubchem\n",
    "substance_list = create_substance_list(objects, size=500)  # This function generates a list of formulas with size 500\n",
    "\n",
    "# This is mass error for augmentation of isotopologue distributions. We did it to make data more realistic\n",
    "dist_error = 2.6*10**(-4) "
   ]
  },
  {
   "cell_type": "code",
   "execution_count": null,
   "metadata": {},
   "outputs": [
    {
     "name": "stderr",
     "output_type": "stream",
     "text": [
      " 11%|████████▉                                                                        | 55/500 [00:20<00:45,  9.75it/s]"
     ]
    }
   ],
   "source": [
    "# Here we create a list with all possible mass differences between isotopologues of substances in substance_list\n",
    "total_diffs = np.array([])\n",
    "for substance in tqdm(substance_list):\n",
    "    formula = Formula(substance['formula'])  # Create Formula object\n",
    "    masses, peaks = formula.isodistribution() # Create isotopic distribution out of formula (direct problem)\n",
    "    masses, peaks = del_isotopologues(masses, peaks) # Delete fine isotopic structure\n",
    "    for i in range(len(masses)):\n",
    "        masses[i] = np.random.uniform(masses[i] - dist_error, masses[i] + dist_error)  # Augmentation with mass error\n",
    "    diffs =np.diff(masses)\n",
    "    total_diffs = np.append(total_diffs, diffs) "
   ]
  },
  {
   "cell_type": "markdown",
   "metadata": {},
   "source": [
    "P.S. If the code in the cell above is being executed slow, try to reduce size in *substance_list* and restart the kernel"
   ]
  },
  {
   "cell_type": "code",
   "execution_count": null,
   "metadata": {},
   "outputs": [],
   "source": [
    "# Density estimation \n",
    "kde = sm.nonparametric.KDEUnivariate(total_diffs)\n",
    "kde.fit(kernel='epa', bw='scott', fft=False)  # Estimate the densities"
   ]
  },
  {
   "cell_type": "markdown",
   "metadata": {},
   "source": [
    "plot resulted distribution:"
   ]
  },
  {
   "cell_type": "code",
   "execution_count": null,
   "metadata": {},
   "outputs": [],
   "source": [
    "hfont = {'fontname':'DejaVu Sans'}\n",
    "fig = plt.figure(figsize=(5.817, 3.932))\n",
    "ax = fig.add_subplot(111)\n",
    "\n",
    "lines = ax.hist(total_diffs, bins='auto', label=\"Histogram\")\n",
    "ax.plot(kde.support, kde.density, lw=3, label=\"KDE from samples\", zorder=10)\n",
    "ax.legend(loc=\"best\")\n",
    "ax.set_xlim(0.990, 1.006)\n",
    "xticks = [0.990 + 0.002*i for i in range(9)]\n",
    "ax.set_xticks(xticks)\n",
    "ax.set_xlabel('mass difference, Da', **hfont)\n",
    "ax.set_ylabel('counts', **hfont)\n",
    "#fig.savefig('Average_mass_on_organics_kde.png', dpi=300, bbox_inches='tight')"
   ]
  },
  {
   "cell_type": "markdown",
   "metadata": {},
   "source": [
    "We see an interesting distribution. Two clusters are obtained, that is the reason why ML-deisotoping is better. Model should be more certain in merging two peaks into one isotopic distribution if mass difference between them is in the center of one of the clusters. We can't recognize these patterns using only linear classification because we have only two separating hyperplanes (for 1D data hyperplanes are just points)"
   ]
  },
  {
   "cell_type": "markdown",
   "metadata": {},
   "source": [
    "Anyway, we got parameters:\n",
    "\n",
    "Average mass difference = <span style=\"color:blue\">0.998</span> <br>\n",
    "Delta = <span style=\"color:blue\">0.007</span>"
   ]
  },
  {
   "cell_type": "markdown",
   "metadata": {},
   "source": [
    "### 2) Optimal min_distance investigation"
   ]
  },
  {
   "cell_type": "markdown",
   "metadata": {},
   "source": [
    "Peak picking function in MEDUSA has a parameter min_distance, which is the minimal mass difference between peaks in spectra, that are gonna be processed. In deisiotoping we try to deisotope peaks from fine isotopic structure, so we should examine, what is the possible maximal mass difference between aggregatted isotopic variants.\n",
    "\n",
    "We will use substances from validation dataset, as their isotopologues have rich fine isotopic structure"
   ]
  },
  {
   "cell_type": "code",
   "execution_count": null,
   "metadata": {},
   "outputs": [],
   "source": [
    "list_of_formulas = ['C7H5O3',\n",
    " 'C13H10N',\n",
    " 'C7H7O3S',\n",
    " 'C15H21Ni2O6',\n",
    " 'C7H10NNiO2',\n",
    " 'C9H13N2NiO2',\n",
    " 'C27H36N2PdC2H6C2N2Cl',\n",
    " 'C27H36N2PdC5H5NCH3CNCl',\n",
    " 'C27H36N2PdC5H5NCl',\n",
    " 'C27H36N2PdCH3CNCl',\n",
    " 'C10H14FeO4',\n",
    " 'C10H14MnO4',\n",
    " 'C25H35Mn2O10',\n",
    " 'C19H18P',\n",
    " 'C25H23P2',\n",
    " 'C19H42N',\n",
    " 'C10H16ClN2Pd2',\n",
    " 'C5H8NPd',\n",
    " 'C6H10ClPd2',\n",
    " 'C7H11N2Pd',\n",
    " 'C8H13ClNPd2',\n",
    " 'C27H36N2H',\n",
    " 'C57H52N',\n",
    " 'C9H11N2',\n",
    " 'C7H11N2',\n",
    " 'C18H16OP',\n",
    " 'C8H15N2',\n",
    " 'C10H14CuNaO4',\n",
    " 'C20H28Cu2NaO8',\n",
    " 'C26H29N2Ni',\n",
    " 'C28H32N3Ni',\n",
    " 'C10H6Cu7N8',\n",
    " 'C11H6Cu8N9',\n",
    " 'C5H6Cu2N3',\n",
    " 'C6H6Cu3N4',\n",
    " 'C7H6Cu4N5',\n",
    " 'C8H6Cu5N6',\n",
    " 'C9H6Cu6N7',\n",
    " 'C18H15NaOP',\n",
    " 'C18H16OP',\n",
    " 'C36H30NaO2P2',\n",
    " 'C32H32NO4',\n",
    " 'C16H36N',\n",
    " 'C28H24N',\n",
    " 'C30H28N',\n",
    " 'C40H40IrN4',\n",
    " 'C23H22N',\n",
    " 'C28H30N2O3Na',\n",
    " 'C28H31N2O3',\n",
    " 'C4H6BrN2Ni']"
   ]
  },
  {
   "cell_type": "markdown",
   "metadata": {},
   "source": [
    "Here we cluster peaks to find aggregated isotopic variants and get list with maximal mass differences between aggregated isotopic variants for every compound in above list"
   ]
  },
  {
   "cell_type": "code",
   "execution_count": null,
   "metadata": {},
   "outputs": [],
   "source": [
    "edge_dist_max_list = []\n",
    "for formula in list_of_formulas:\n",
    "    formula = Formula(formula)\n",
    "    masses, peaks = formula.isodistribution()\n",
    "    round_masses = np.round(masses, 1)\n",
    "    unique_masses = np.unique(round_masses)\n",
    "    mass_dict = {}\n",
    "    for mass in unique_masses:\n",
    "        isotopic_variants_masses = masses[round_masses == mass]\n",
    "        isotopic_variants_peaks = peaks[round_masses == mass]\n",
    "        new_is_var_masses = isotopic_variants_masses[isotopic_variants_peaks > 0.001*isotopic_variants_peaks.max()]\n",
    "        edge_dist = new_is_var_masses.max() - new_is_var_masses.min()\n",
    "        mass_dict[mass] = edge_dist\n",
    "    edge_dist_max = max(mass_dict.values())\n",
    "    edge_dist_max_list.append(edge_dist_max)"
   ]
  },
  {
   "cell_type": "code",
   "execution_count": null,
   "metadata": {},
   "outputs": [],
   "source": [
    "# Plotting the histogram\n",
    "hfont = {'fontname':'DejaVu Sans'}\n",
    "plt.figure(figsize=(5.817, 3.932))\n",
    "plt.hist(edge_dist_max_list, bins=25)\n",
    "xticks = [0.00, 0.01, 0.02, 0.03, 0.04]\n",
    "plt.xticks(xticks)\n",
    "plt.xlabel('maximal distance between aggregated isotopic variants, Da', **hfont)\n",
    "plt.ylabel('counts', **hfont)\n",
    "#plt.savefig('Max_dist_between_fine_structures.png', dpi=300, bbox_inches='tight')\n",
    "plt.show()"
   ]
  },
  {
   "cell_type": "markdown",
   "metadata": {},
   "source": [
    "Maximal distance (or mass difference) is 0.02. However, this is the estimation above, as 99% of isotopologues have smaller maximal distance. The isotopic structure is symmetric to the most intense peak, so *min_distance* parameter should be 0.01"
   ]
  }
 ],
 "metadata": {
  "kernelspec": {
   "display_name": "Python 3",
   "language": "python",
   "name": "python3"
  },
  "language_info": {
   "codemirror_mode": {
    "name": "ipython",
    "version": 3
   },
   "file_extension": ".py",
   "mimetype": "text/x-python",
   "name": "python",
   "nbconvert_exporter": "python",
   "pygments_lexer": "ipython3",
   "version": "3.8.3"
  }
 },
 "nbformat": 4,
 "nbformat_minor": 1
}
